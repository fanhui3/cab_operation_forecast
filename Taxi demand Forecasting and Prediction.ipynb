{
 "cells": [
  {
   "cell_type": "markdown",
   "id": "1eb6fd93",
   "metadata": {},
   "source": [
    "# 2 methods shall be implemented to forecast taxi demand:\n",
    "\n",
    "1) Time Series Forecasting using ARIMA\n",
    "\n",
    "2) Machine Learning method (RandomForest Predictor and XGBoost Predictor)"
   ]
  },
  {
   "cell_type": "code",
   "execution_count": 1,
   "id": "1011a5e3",
   "metadata": {},
   "outputs": [],
   "source": [
    "import numpy as np\n",
    "import pandas as pd\n",
    "import matplotlib.pyplot as plt\n",
    "import seaborn as sn\n",
    "import warnings\n",
    "import re\n",
    "\n",
    "pd.set_option('display.max_columns', None)\n",
    "\n",
    "#arima\n",
    "from statsmodels.tsa.stattools import adfuller\n",
    "from pmdarima import auto_arima\n",
    "from statsmodels.tsa.arima_model import ARIMA\n",
    "\n",
    "#machine learning\n",
    "from sklearn.model_selection import train_test_split\n",
    "from sklearn.preprocessing import StandardScaler\n",
    "from sklearn.model_selection import GridSearchCV\n",
    "\n",
    "#model\n",
    "from sklearn.ensemble import RandomForestRegressor\n",
    "from xgboost import XGBRegressor"
   ]
  },
  {
   "cell_type": "markdown",
   "id": "86671e77",
   "metadata": {},
   "source": [
    "# Which Zone are we forecasting for? "
   ]
  },
  {
   "cell_type": "code",
   "execution_count": 18,
   "id": "bb334ff7",
   "metadata": {},
   "outputs": [],
   "source": [
    "target_zone = \"Midtown Center\""
   ]
  },
  {
   "cell_type": "markdown",
   "id": "1d450ac5",
   "metadata": {},
   "source": [
    "# import files"
   ]
  },
  {
   "cell_type": "code",
   "execution_count": 30,
   "id": "2ec95391",
   "metadata": {},
   "outputs": [],
   "source": [
    "df = pd.read_csv(\"./tripdata.csv\", parse_dates=True)"
   ]
  },
  {
   "cell_type": "code",
   "execution_count": 31,
   "id": "5e7ab369",
   "metadata": {},
   "outputs": [],
   "source": [
    "zone = pd.read_csv(\"./taxi_zone_lookup.csv\")"
   ]
  },
  {
   "cell_type": "markdown",
   "id": "523873d0",
   "metadata": {},
   "source": [
    "# study the file"
   ]
  },
  {
   "cell_type": "code",
   "execution_count": 32,
   "id": "94d43c79",
   "metadata": {},
   "outputs": [],
   "source": [
    "df['tpep_pickup_datetime']= pd.to_datetime(df['tpep_pickup_datetime'])\n",
    "df['tpep_dropoff_datetime']= pd.to_datetime(df['tpep_dropoff_datetime'])"
   ]
  },
  {
   "cell_type": "code",
   "execution_count": 33,
   "id": "aaca391f",
   "metadata": {},
   "outputs": [
    {
     "data": {
      "text/plain": [
       "Unnamed: 0               0\n",
       "VendorID                 0\n",
       "tpep_pickup_datetime     0\n",
       "tpep_dropoff_datetime    0\n",
       "passenger_count          0\n",
       "trip_distance            0\n",
       "RatecodeID               0\n",
       "store_and_fwd_flag       0\n",
       "PULocationID             0\n",
       "DOLocationID             0\n",
       "payment_type             0\n",
       "fare_amount              0\n",
       "extra                    0\n",
       "mta_tax                  0\n",
       "tip_amount               0\n",
       "tolls_amount             0\n",
       "improvement_surcharge    0\n",
       "total_amount             0\n",
       "dtype: int64"
      ]
     },
     "execution_count": 33,
     "metadata": {},
     "output_type": "execute_result"
    }
   ],
   "source": [
    "df.isna().sum()"
   ]
  },
  {
   "cell_type": "code",
   "execution_count": 34,
   "id": "7d44f42e",
   "metadata": {},
   "outputs": [
    {
     "name": "stdout",
     "output_type": "stream",
     "text": [
      "the earliest record is: 2017-01-01 00:00:00\n",
      " while the latest record is: 2017-01-07 23:59:59\n"
     ]
    }
   ],
   "source": [
    "print(\"the earliest record is: \" + str(min(df[\"tpep_pickup_datetime\"])) \n",
    "      +\"\\n while the latest record is: \" + str(max(df[\"tpep_pickup_datetime\"])))"
   ]
  },
  {
   "cell_type": "code",
   "execution_count": null,
   "id": "dd51469a",
   "metadata": {},
   "outputs": [],
   "source": []
  },
  {
   "cell_type": "markdown",
   "id": "ec4fc8f4",
   "metadata": {},
   "source": [
    "# join all the dataset"
   ]
  },
  {
   "cell_type": "code",
   "execution_count": 35,
   "id": "553cc866",
   "metadata": {},
   "outputs": [],
   "source": [
    "df = pd.merge(df,zone,left_on=\"PULocationID\", right_on=\"LocationID\")"
   ]
  },
  {
   "cell_type": "code",
   "execution_count": 36,
   "id": "b8013529",
   "metadata": {},
   "outputs": [
    {
     "data": {
      "text/plain": [
       "Index(['Unnamed: 0', 'VendorID', 'tpep_pickup_datetime',\n",
       "       'tpep_dropoff_datetime', 'passenger_count', 'trip_distance',\n",
       "       'RatecodeID', 'store_and_fwd_flag', 'PULocationID', 'DOLocationID',\n",
       "       'payment_type', 'fare_amount', 'extra', 'mta_tax', 'tip_amount',\n",
       "       'tolls_amount', 'improvement_surcharge', 'total_amount', 'LocationID',\n",
       "       'Borough', 'Zone', 'service_zone'],\n",
       "      dtype='object')"
      ]
     },
     "execution_count": 36,
     "metadata": {},
     "output_type": "execute_result"
    }
   ],
   "source": [
    "df.columns"
   ]
  },
  {
   "cell_type": "code",
   "execution_count": 37,
   "id": "419885e9",
   "metadata": {},
   "outputs": [],
   "source": [
    "#tdfrim dataset\n",
    "df = df[['Unnamed: 0', 'tpep_pickup_datetime', 'Zone']]"
   ]
  },
  {
   "cell_type": "code",
   "execution_count": 38,
   "id": "9340225d",
   "metadata": {},
   "outputs": [],
   "source": [
    "#rename columns\n",
    "df.columns = ['trip_id', 'pickup_datetime', 'Zone']"
   ]
  },
  {
   "cell_type": "markdown",
   "id": "9a3c5700",
   "metadata": {},
   "source": [
    "# Technique 1: Machine Learning"
   ]
  },
  {
   "cell_type": "code",
   "execution_count": 65,
   "id": "3c4f175e",
   "metadata": {},
   "outputs": [],
   "source": [
    "df_ml = df.copy(deep=True)"
   ]
  },
  {
   "cell_type": "markdown",
   "id": "f30aa384",
   "metadata": {},
   "source": [
    "## aggregate count"
   ]
  },
  {
   "cell_type": "code",
   "execution_count": 66,
   "id": "f5f9147b",
   "metadata": {},
   "outputs": [
    {
     "data": {
      "text/plain": [
       "'Midtown Center'"
      ]
     },
     "execution_count": 66,
     "metadata": {},
     "output_type": "execute_result"
    }
   ],
   "source": [
    "target_zone"
   ]
  },
  {
   "cell_type": "code",
   "execution_count": 67,
   "id": "fa54dffa",
   "metadata": {},
   "outputs": [],
   "source": [
    "df_ml = df_ml[df_ml[\"Zone\"]==target_zone]\n",
    "df_ml = pd.DataFrame(df_ml.resample('H', on='pickup_datetime').trip_id.count())\n"
   ]
  },
  {
   "cell_type": "code",
   "execution_count": 68,
   "id": "e55ede8d",
   "metadata": {},
   "outputs": [],
   "source": [
    "df_ml = df_ml.reset_index()"
   ]
  },
  {
   "cell_type": "code",
   "execution_count": 69,
   "id": "cba1d570",
   "metadata": {},
   "outputs": [
    {
     "data": {
      "text/html": [
       "<div>\n",
       "<style scoped>\n",
       "    .dataframe tbody tr th:only-of-type {\n",
       "        vertical-align: middle;\n",
       "    }\n",
       "\n",
       "    .dataframe tbody tr th {\n",
       "        vertical-align: top;\n",
       "    }\n",
       "\n",
       "    .dataframe thead th {\n",
       "        text-align: right;\n",
       "    }\n",
       "</style>\n",
       "<table border=\"1\" class=\"dataframe\">\n",
       "  <thead>\n",
       "    <tr style=\"text-align: right;\">\n",
       "      <th></th>\n",
       "      <th>pickup_datetime</th>\n",
       "      <th>trip_id</th>\n",
       "    </tr>\n",
       "  </thead>\n",
       "  <tbody>\n",
       "    <tr>\n",
       "      <th>0</th>\n",
       "      <td>2017-01-01 00:00:00</td>\n",
       "      <td>653</td>\n",
       "    </tr>\n",
       "    <tr>\n",
       "      <th>1</th>\n",
       "      <td>2017-01-01 01:00:00</td>\n",
       "      <td>596</td>\n",
       "    </tr>\n",
       "    <tr>\n",
       "      <th>2</th>\n",
       "      <td>2017-01-01 02:00:00</td>\n",
       "      <td>405</td>\n",
       "    </tr>\n",
       "    <tr>\n",
       "      <th>3</th>\n",
       "      <td>2017-01-01 03:00:00</td>\n",
       "      <td>286</td>\n",
       "    </tr>\n",
       "    <tr>\n",
       "      <th>4</th>\n",
       "      <td>2017-01-01 04:00:00</td>\n",
       "      <td>174</td>\n",
       "    </tr>\n",
       "  </tbody>\n",
       "</table>\n",
       "</div>"
      ],
      "text/plain": [
       "      pickup_datetime  trip_id\n",
       "0 2017-01-01 00:00:00      653\n",
       "1 2017-01-01 01:00:00      596\n",
       "2 2017-01-01 02:00:00      405\n",
       "3 2017-01-01 03:00:00      286\n",
       "4 2017-01-01 04:00:00      174"
      ]
     },
     "execution_count": 69,
     "metadata": {},
     "output_type": "execute_result"
    }
   ],
   "source": [
    "df_ml.head()"
   ]
  },
  {
   "cell_type": "markdown",
   "id": "26b592cf",
   "metadata": {},
   "source": [
    "## Feature engineering"
   ]
  },
  {
   "cell_type": "code",
   "execution_count": 70,
   "id": "1c461255",
   "metadata": {},
   "outputs": [],
   "source": [
    "# create weekday/weekend column\n",
    "df_ml[\"weekday\"] = df_ml[\"pickup_datetime\"].dt.weekday\n",
    "\n",
    "def week_day_end(value):\n",
    "    if value > 5:\n",
    "        return \"weekend\"\n",
    "    else:\n",
    "        return \"weekday\"\n",
    "    \n",
    "df_ml[\"weekday\"] = df_ml[\"weekday\"].apply(week_day_end)"
   ]
  },
  {
   "cell_type": "code",
   "execution_count": 71,
   "id": "29d1e8df",
   "metadata": {},
   "outputs": [],
   "source": [
    "#create hour columns\n",
    "df_ml[\"hour\"] = df_ml[\"pickup_datetime\"].dt.hour\n",
    "df_ml.drop(\"pickup_datetime\", axis=\"columns\", inplace=True)"
   ]
  },
  {
   "cell_type": "code",
   "execution_count": 72,
   "id": "35f30306",
   "metadata": {},
   "outputs": [],
   "source": [
    "#keep essential columns for ML\n",
    "df_ml.columns = ['trips', 'weekday', 'hour']"
   ]
  },
  {
   "cell_type": "markdown",
   "id": "125a4f99",
   "metadata": {},
   "source": [
    "## resample to create more instances"
   ]
  },
  {
   "cell_type": "code",
   "execution_count": 73,
   "id": "2881bbcf",
   "metadata": {},
   "outputs": [
    {
     "data": {
      "text/plain": [
       "(840, 3)"
      ]
     },
     "execution_count": 73,
     "metadata": {},
     "output_type": "execute_result"
    }
   ],
   "source": [
    "df_ml = df_ml.sample(n=(len(df_ml)*5),replace=True)\n",
    "df_ml.shape"
   ]
  },
  {
   "cell_type": "markdown",
   "id": "dcea1f7d",
   "metadata": {},
   "source": [
    "## data preprocessing"
   ]
  },
  {
   "cell_type": "code",
   "execution_count": 75,
   "id": "34a0a6a5",
   "metadata": {},
   "outputs": [],
   "source": [
    "#dummy variable\n",
    "df_ml = pd.get_dummies(df_ml)"
   ]
  },
  {
   "cell_type": "code",
   "execution_count": 77,
   "id": "685edf96",
   "metadata": {},
   "outputs": [],
   "source": [
    "X_train, X_test, y_train, y_test = train_test_split(df_ml.drop(\"trips\", axis=\"columns\"), df_ml[\"trips\"], \n",
    "                                                    test_size = 0.2, random_state = 42)"
   ]
  },
  {
   "cell_type": "markdown",
   "id": "44a9f2d8",
   "metadata": {},
   "source": [
    "## ML Model 1: Random Forest (81.5% tuned to 84.9% untuned R2 Score)"
   ]
  },
  {
   "cell_type": "markdown",
   "id": "b5ba53df",
   "metadata": {},
   "source": [
    "### untuned"
   ]
  },
  {
   "cell_type": "code",
   "execution_count": 116,
   "id": "d22ed972",
   "metadata": {},
   "outputs": [
    {
     "data": {
      "text/html": [
       "<style>#sk-container-id-13 {color: black;background-color: white;}#sk-container-id-13 pre{padding: 0;}#sk-container-id-13 div.sk-toggleable {background-color: white;}#sk-container-id-13 label.sk-toggleable__label {cursor: pointer;display: block;width: 100%;margin-bottom: 0;padding: 0.3em;box-sizing: border-box;text-align: center;}#sk-container-id-13 label.sk-toggleable__label-arrow:before {content: \"▸\";float: left;margin-right: 0.25em;color: #696969;}#sk-container-id-13 label.sk-toggleable__label-arrow:hover:before {color: black;}#sk-container-id-13 div.sk-estimator:hover label.sk-toggleable__label-arrow:before {color: black;}#sk-container-id-13 div.sk-toggleable__content {max-height: 0;max-width: 0;overflow: hidden;text-align: left;background-color: #f0f8ff;}#sk-container-id-13 div.sk-toggleable__content pre {margin: 0.2em;color: black;border-radius: 0.25em;background-color: #f0f8ff;}#sk-container-id-13 input.sk-toggleable__control:checked~div.sk-toggleable__content {max-height: 200px;max-width: 100%;overflow: auto;}#sk-container-id-13 input.sk-toggleable__control:checked~label.sk-toggleable__label-arrow:before {content: \"▾\";}#sk-container-id-13 div.sk-estimator input.sk-toggleable__control:checked~label.sk-toggleable__label {background-color: #d4ebff;}#sk-container-id-13 div.sk-label input.sk-toggleable__control:checked~label.sk-toggleable__label {background-color: #d4ebff;}#sk-container-id-13 input.sk-hidden--visually {border: 0;clip: rect(1px 1px 1px 1px);clip: rect(1px, 1px, 1px, 1px);height: 1px;margin: -1px;overflow: hidden;padding: 0;position: absolute;width: 1px;}#sk-container-id-13 div.sk-estimator {font-family: monospace;background-color: #f0f8ff;border: 1px dotted black;border-radius: 0.25em;box-sizing: border-box;margin-bottom: 0.5em;}#sk-container-id-13 div.sk-estimator:hover {background-color: #d4ebff;}#sk-container-id-13 div.sk-parallel-item::after {content: \"\";width: 100%;border-bottom: 1px solid gray;flex-grow: 1;}#sk-container-id-13 div.sk-label:hover label.sk-toggleable__label {background-color: #d4ebff;}#sk-container-id-13 div.sk-serial::before {content: \"\";position: absolute;border-left: 1px solid gray;box-sizing: border-box;top: 0;bottom: 0;left: 50%;z-index: 0;}#sk-container-id-13 div.sk-serial {display: flex;flex-direction: column;align-items: center;background-color: white;padding-right: 0.2em;padding-left: 0.2em;position: relative;}#sk-container-id-13 div.sk-item {position: relative;z-index: 1;}#sk-container-id-13 div.sk-parallel {display: flex;align-items: stretch;justify-content: center;background-color: white;position: relative;}#sk-container-id-13 div.sk-item::before, #sk-container-id-13 div.sk-parallel-item::before {content: \"\";position: absolute;border-left: 1px solid gray;box-sizing: border-box;top: 0;bottom: 0;left: 50%;z-index: -1;}#sk-container-id-13 div.sk-parallel-item {display: flex;flex-direction: column;z-index: 1;position: relative;background-color: white;}#sk-container-id-13 div.sk-parallel-item:first-child::after {align-self: flex-end;width: 50%;}#sk-container-id-13 div.sk-parallel-item:last-child::after {align-self: flex-start;width: 50%;}#sk-container-id-13 div.sk-parallel-item:only-child::after {width: 0;}#sk-container-id-13 div.sk-dashed-wrapped {border: 1px dashed gray;margin: 0 0.4em 0.5em 0.4em;box-sizing: border-box;padding-bottom: 0.4em;background-color: white;}#sk-container-id-13 div.sk-label label {font-family: monospace;font-weight: bold;display: inline-block;line-height: 1.2em;}#sk-container-id-13 div.sk-label-container {text-align: center;}#sk-container-id-13 div.sk-container {/* jupyter's `normalize.less` sets `[hidden] { display: none; }` but bootstrap.min.css set `[hidden] { display: none !important; }` so we also need the `!important` here to be able to override the default hidden behavior on the sphinx rendered scikit-learn.org. See: https://github.com/scikit-learn/scikit-learn/issues/21755 */display: inline-block !important;position: relative;}#sk-container-id-13 div.sk-text-repr-fallback {display: none;}</style><div id=\"sk-container-id-13\" class=\"sk-top-container\"><div class=\"sk-text-repr-fallback\"><pre>RandomForestRegressor(n_estimators=201, random_state=42)</pre><b>In a Jupyter environment, please rerun this cell to show the HTML representation or trust the notebook. <br />On GitHub, the HTML representation is unable to render, please try loading this page with nbviewer.org.</b></div><div class=\"sk-container\" hidden><div class=\"sk-item\"><div class=\"sk-estimator sk-toggleable\"><input class=\"sk-toggleable__control sk-hidden--visually\" id=\"sk-estimator-id-15\" type=\"checkbox\" checked><label for=\"sk-estimator-id-15\" class=\"sk-toggleable__label sk-toggleable__label-arrow\">RandomForestRegressor</label><div class=\"sk-toggleable__content\"><pre>RandomForestRegressor(n_estimators=201, random_state=42)</pre></div></div></div></div></div>"
      ],
      "text/plain": [
       "RandomForestRegressor(n_estimators=201, random_state=42)"
      ]
     },
     "execution_count": 116,
     "metadata": {},
     "output_type": "execute_result"
    }
   ],
   "source": [
    "rf_regressor = RandomForestRegressor(n_estimators = 201, random_state=42)\n",
    "rf_regressor.fit(X_train, y_train)"
   ]
  },
  {
   "cell_type": "code",
   "execution_count": 117,
   "id": "933708a2",
   "metadata": {},
   "outputs": [
    {
     "data": {
      "text/plain": [
       "0.8491891444149521"
      ]
     },
     "execution_count": 117,
     "metadata": {},
     "output_type": "execute_result"
    }
   ],
   "source": [
    "rf_regressor.score(X_test,y_test)"
   ]
  },
  {
   "cell_type": "markdown",
   "id": "189a4d9a",
   "metadata": {},
   "source": [
    "### hypertuned"
   ]
  },
  {
   "cell_type": "code",
   "execution_count": 118,
   "id": "151b9fe0",
   "metadata": {},
   "outputs": [],
   "source": [
    "param_grid = { \n",
    "    'max_features': ['auto', 'sqrt'],\n",
    "    'max_depth' : [4,5,10,15,20],\n",
    "    \"min_samples_split\" : [4,5,10,20,50],\n",
    "    \"min_samples_leaf\" : [4,5,10,20,50]}"
   ]
  },
  {
   "cell_type": "code",
   "execution_count": 119,
   "id": "d1176e63",
   "metadata": {},
   "outputs": [],
   "source": [
    "tuned_RF = GridSearchCV(estimator = rf_regressor,\n",
    "                        param_grid = param_grid,\n",
    "                        cv = 10,\n",
    "                        scoring=\"r2\",\n",
    "                        n_jobs = -1)\n"
   ]
  },
  {
   "cell_type": "code",
   "execution_count": 120,
   "id": "db1ec770",
   "metadata": {},
   "outputs": [
    {
     "name": "stdout",
     "output_type": "stream",
     "text": [
      "Best Accuracy: 81.54 %\n",
      "Best Parameters: {'max_depth': 10, 'max_features': 'sqrt', 'min_samples_leaf': 4, 'min_samples_split': 4}\n"
     ]
    }
   ],
   "source": [
    "tuned_RF.fit(X_train, y_train)\n",
    "best_accuracy = tuned_RF.best_score_\n",
    "best_parameters = tuned_RF.best_params_\n",
    "print(\"Best Accuracy: {:.2f} %\".format(best_accuracy*100))\n",
    "print(\"Best Parameters:\", best_parameters)"
   ]
  },
  {
   "cell_type": "markdown",
   "id": "c63aa4a5",
   "metadata": {},
   "source": [
    "## ML Model 2: XGBoost (85.0% R2 Score)"
   ]
  },
  {
   "cell_type": "markdown",
   "id": "5983b88e",
   "metadata": {},
   "source": [
    "### untuned"
   ]
  },
  {
   "cell_type": "code",
   "execution_count": 122,
   "id": "c5c8efc8",
   "metadata": {},
   "outputs": [
    {
     "data": {
      "text/html": [
       "<style>#sk-container-id-14 {color: black;background-color: white;}#sk-container-id-14 pre{padding: 0;}#sk-container-id-14 div.sk-toggleable {background-color: white;}#sk-container-id-14 label.sk-toggleable__label {cursor: pointer;display: block;width: 100%;margin-bottom: 0;padding: 0.3em;box-sizing: border-box;text-align: center;}#sk-container-id-14 label.sk-toggleable__label-arrow:before {content: \"▸\";float: left;margin-right: 0.25em;color: #696969;}#sk-container-id-14 label.sk-toggleable__label-arrow:hover:before {color: black;}#sk-container-id-14 div.sk-estimator:hover label.sk-toggleable__label-arrow:before {color: black;}#sk-container-id-14 div.sk-toggleable__content {max-height: 0;max-width: 0;overflow: hidden;text-align: left;background-color: #f0f8ff;}#sk-container-id-14 div.sk-toggleable__content pre {margin: 0.2em;color: black;border-radius: 0.25em;background-color: #f0f8ff;}#sk-container-id-14 input.sk-toggleable__control:checked~div.sk-toggleable__content {max-height: 200px;max-width: 100%;overflow: auto;}#sk-container-id-14 input.sk-toggleable__control:checked~label.sk-toggleable__label-arrow:before {content: \"▾\";}#sk-container-id-14 div.sk-estimator input.sk-toggleable__control:checked~label.sk-toggleable__label {background-color: #d4ebff;}#sk-container-id-14 div.sk-label input.sk-toggleable__control:checked~label.sk-toggleable__label {background-color: #d4ebff;}#sk-container-id-14 input.sk-hidden--visually {border: 0;clip: rect(1px 1px 1px 1px);clip: rect(1px, 1px, 1px, 1px);height: 1px;margin: -1px;overflow: hidden;padding: 0;position: absolute;width: 1px;}#sk-container-id-14 div.sk-estimator {font-family: monospace;background-color: #f0f8ff;border: 1px dotted black;border-radius: 0.25em;box-sizing: border-box;margin-bottom: 0.5em;}#sk-container-id-14 div.sk-estimator:hover {background-color: #d4ebff;}#sk-container-id-14 div.sk-parallel-item::after {content: \"\";width: 100%;border-bottom: 1px solid gray;flex-grow: 1;}#sk-container-id-14 div.sk-label:hover label.sk-toggleable__label {background-color: #d4ebff;}#sk-container-id-14 div.sk-serial::before {content: \"\";position: absolute;border-left: 1px solid gray;box-sizing: border-box;top: 0;bottom: 0;left: 50%;z-index: 0;}#sk-container-id-14 div.sk-serial {display: flex;flex-direction: column;align-items: center;background-color: white;padding-right: 0.2em;padding-left: 0.2em;position: relative;}#sk-container-id-14 div.sk-item {position: relative;z-index: 1;}#sk-container-id-14 div.sk-parallel {display: flex;align-items: stretch;justify-content: center;background-color: white;position: relative;}#sk-container-id-14 div.sk-item::before, #sk-container-id-14 div.sk-parallel-item::before {content: \"\";position: absolute;border-left: 1px solid gray;box-sizing: border-box;top: 0;bottom: 0;left: 50%;z-index: -1;}#sk-container-id-14 div.sk-parallel-item {display: flex;flex-direction: column;z-index: 1;position: relative;background-color: white;}#sk-container-id-14 div.sk-parallel-item:first-child::after {align-self: flex-end;width: 50%;}#sk-container-id-14 div.sk-parallel-item:last-child::after {align-self: flex-start;width: 50%;}#sk-container-id-14 div.sk-parallel-item:only-child::after {width: 0;}#sk-container-id-14 div.sk-dashed-wrapped {border: 1px dashed gray;margin: 0 0.4em 0.5em 0.4em;box-sizing: border-box;padding-bottom: 0.4em;background-color: white;}#sk-container-id-14 div.sk-label label {font-family: monospace;font-weight: bold;display: inline-block;line-height: 1.2em;}#sk-container-id-14 div.sk-label-container {text-align: center;}#sk-container-id-14 div.sk-container {/* jupyter's `normalize.less` sets `[hidden] { display: none; }` but bootstrap.min.css set `[hidden] { display: none !important; }` so we also need the `!important` here to be able to override the default hidden behavior on the sphinx rendered scikit-learn.org. See: https://github.com/scikit-learn/scikit-learn/issues/21755 */display: inline-block !important;position: relative;}#sk-container-id-14 div.sk-text-repr-fallback {display: none;}</style><div id=\"sk-container-id-14\" class=\"sk-top-container\"><div class=\"sk-text-repr-fallback\"><pre>XGBRegressor(base_score=0.5, booster=&#x27;gbtree&#x27;, callbacks=None,\n",
       "             colsample_bylevel=1, colsample_bynode=1, colsample_bytree=1,\n",
       "             early_stopping_rounds=None, enable_categorical=False,\n",
       "             eval_metric=None, gamma=0, gpu_id=-1, grow_policy=&#x27;depthwise&#x27;,\n",
       "             importance_type=None, interaction_constraints=&#x27;&#x27;,\n",
       "             learning_rate=0.300000012, max_bin=256, max_cat_to_onehot=4,\n",
       "             max_delta_step=0, max_depth=6, max_leaves=0, min_child_weight=1,\n",
       "             missing=nan, monotone_constraints=&#x27;()&#x27;, n_estimators=100, n_jobs=0,\n",
       "             num_parallel_tree=1, predictor=&#x27;auto&#x27;, random_state=42,\n",
       "             reg_alpha=0, reg_lambda=1, ...)</pre><b>In a Jupyter environment, please rerun this cell to show the HTML representation or trust the notebook. <br />On GitHub, the HTML representation is unable to render, please try loading this page with nbviewer.org.</b></div><div class=\"sk-container\" hidden><div class=\"sk-item\"><div class=\"sk-estimator sk-toggleable\"><input class=\"sk-toggleable__control sk-hidden--visually\" id=\"sk-estimator-id-16\" type=\"checkbox\" checked><label for=\"sk-estimator-id-16\" class=\"sk-toggleable__label sk-toggleable__label-arrow\">XGBRegressor</label><div class=\"sk-toggleable__content\"><pre>XGBRegressor(base_score=0.5, booster=&#x27;gbtree&#x27;, callbacks=None,\n",
       "             colsample_bylevel=1, colsample_bynode=1, colsample_bytree=1,\n",
       "             early_stopping_rounds=None, enable_categorical=False,\n",
       "             eval_metric=None, gamma=0, gpu_id=-1, grow_policy=&#x27;depthwise&#x27;,\n",
       "             importance_type=None, interaction_constraints=&#x27;&#x27;,\n",
       "             learning_rate=0.300000012, max_bin=256, max_cat_to_onehot=4,\n",
       "             max_delta_step=0, max_depth=6, max_leaves=0, min_child_weight=1,\n",
       "             missing=nan, monotone_constraints=&#x27;()&#x27;, n_estimators=100, n_jobs=0,\n",
       "             num_parallel_tree=1, predictor=&#x27;auto&#x27;, random_state=42,\n",
       "             reg_alpha=0, reg_lambda=1, ...)</pre></div></div></div></div></div>"
      ],
      "text/plain": [
       "XGBRegressor(base_score=0.5, booster='gbtree', callbacks=None,\n",
       "             colsample_bylevel=1, colsample_bynode=1, colsample_bytree=1,\n",
       "             early_stopping_rounds=None, enable_categorical=False,\n",
       "             eval_metric=None, gamma=0, gpu_id=-1, grow_policy='depthwise',\n",
       "             importance_type=None, interaction_constraints='',\n",
       "             learning_rate=0.300000012, max_bin=256, max_cat_to_onehot=4,\n",
       "             max_delta_step=0, max_depth=6, max_leaves=0, min_child_weight=1,\n",
       "             missing=nan, monotone_constraints='()', n_estimators=100, n_jobs=0,\n",
       "             num_parallel_tree=1, predictor='auto', random_state=42,\n",
       "             reg_alpha=0, reg_lambda=1, ...)"
      ]
     },
     "execution_count": 122,
     "metadata": {},
     "output_type": "execute_result"
    }
   ],
   "source": [
    "xgbreg = XGBRegressor(random_state=42)\n",
    "xgbreg.fit(X_train, y_train)"
   ]
  },
  {
   "cell_type": "code",
   "execution_count": 123,
   "id": "888775cf",
   "metadata": {},
   "outputs": [
    {
     "data": {
      "text/plain": [
       "0.8495700780444607"
      ]
     },
     "execution_count": 123,
     "metadata": {},
     "output_type": "execute_result"
    }
   ],
   "source": [
    "xgbreg.score(X_test,y_test)"
   ]
  },
  {
   "cell_type": "markdown",
   "id": "e3b59949",
   "metadata": {},
   "source": [
    "# Technique 2: ARIMA time series forecasting \n",
    "* statsmodel is package is under going statespace framework reconstruction. Some functions might not be available"
   ]
  },
  {
   "cell_type": "markdown",
   "id": "d47a6c01",
   "metadata": {},
   "source": [
    "## keep only transaction for interested zone"
   ]
  },
  {
   "cell_type": "code",
   "execution_count": 14,
   "id": "85aca4e6",
   "metadata": {},
   "outputs": [],
   "source": [
    "df_arima = df.copy(deep=True)\n"
   ]
  },
  {
   "cell_type": "code",
   "execution_count": 18,
   "id": "f82ba9d6",
   "metadata": {},
   "outputs": [],
   "source": [
    "df_arima = df_arima[df_arima[\"Zone\"]==zone]"
   ]
  },
  {
   "cell_type": "markdown",
   "id": "28dc4319",
   "metadata": {},
   "source": [
    "## group transaction at regular interval (hourly)"
   ]
  },
  {
   "cell_type": "code",
   "execution_count": 19,
   "id": "b8193ac5",
   "metadata": {},
   "outputs": [],
   "source": [
    "df_arima = pd.DataFrame(df_arima.resample('H', on='pickup_datetime').trip_id.count())"
   ]
  },
  {
   "cell_type": "markdown",
   "id": "456226d4",
   "metadata": {},
   "source": [
    "## display tempo"
   ]
  },
  {
   "cell_type": "code",
   "execution_count": 20,
   "id": "1cd89ed1",
   "metadata": {},
   "outputs": [
    {
     "data": {
      "text/plain": [
       "<AxesSubplot:xlabel='pickup_datetime'>"
      ]
     },
     "execution_count": 20,
     "metadata": {},
     "output_type": "execute_result"
    },
    {
     "data": {
      "image/png": "[encoded data removed]",
      "text/plain": [
       "<Figure size 864x360 with 1 Axes>"
      ]
     },
     "metadata": {
      "needs_background": "light"
     },
     "output_type": "display_data"
    }
   ],
   "source": [
    "df_arima[\"trip_id\"].plot(figsize= (12,5))"
   ]
  },
  {
   "cell_type": "markdown",
   "id": "38627670",
   "metadata": {},
   "source": [
    "## check for stationarity"
   ]
  },
  {
   "cell_type": "code",
   "execution_count": 21,
   "id": "bbde61a0",
   "metadata": {},
   "outputs": [
    {
     "name": "stdout",
     "output_type": "stream",
     "text": [
      "P_value is: 2.389634528891065e-07\n"
     ]
    }
   ],
   "source": [
    "print(\"P_value is: \" + str(adfuller(df_arima, autolag=\"AIC\")[1]))"
   ]
  },
  {
   "cell_type": "markdown",
   "id": "2b6e4d44",
   "metadata": {},
   "source": [
    "## find out order of ARIMA"
   ]
  },
  {
   "cell_type": "code",
   "execution_count": 22,
   "id": "38f2aec7",
   "metadata": {},
   "outputs": [],
   "source": [
    "warnings.filterwarnings(\"ignore\")"
   ]
  },
  {
   "cell_type": "code",
   "execution_count": 23,
   "id": "4ef5b206",
   "metadata": {},
   "outputs": [
    {
     "name": "stdout",
     "output_type": "stream",
     "text": [
      "3 0 1\n"
     ]
    }
   ],
   "source": [
    "#fit the arima model\n",
    "stepwise_fit = auto_arima(df_arima[\"trip_id\"],suppress_warnings=True)\n",
    "\n",
    "#extract best p,d,q value using regular expression\n",
    "summary_string = str(stepwise_fit.summary())\n",
    "param = re.findall('SARIMAX\\(([0-9]+), ([0-9]+), ([0-9]+)',summary_string)\n",
    "p,d,q = int(param[0][0]) , int(param[0][1]) , int(param[0][2])\n",
    "print(p,d,q)"
   ]
  },
  {
   "cell_type": "markdown",
   "id": "c217e7a8",
   "metadata": {},
   "source": [
    "## split train and test data"
   ]
  },
  {
   "cell_type": "code",
   "execution_count": 24,
   "id": "18ba4ea1",
   "metadata": {},
   "outputs": [
    {
     "name": "stdout",
     "output_type": "stream",
     "text": [
      "(134, 1) (34, 1)\n"
     ]
    }
   ],
   "source": [
    "train_stop = int(round(0.8*len(df_arima)))\n",
    "train =  df_arima.iloc[:train_stop]\n",
    "test = df_arima.iloc[train_stop:]\n",
    "print(train.shape, test.shape)"
   ]
  },
  {
   "cell_type": "markdown",
   "id": "e15cbc86",
   "metadata": {},
   "source": [
    "## train data"
   ]
  },
  {
   "cell_type": "code",
   "execution_count": null,
   "id": "561d52b3",
   "metadata": {},
   "outputs": [],
   "source": [
    "model = ARIMA(train[\"trip_id\"], order=(p,d,q))\n",
    "model = model.fit"
   ]
  },
  {
   "cell_type": "markdown",
   "id": "881ff975",
   "metadata": {},
   "source": [
    "## make prediction on test data"
   ]
  },
  {
   "cell_type": "code",
   "execution_count": 84,
   "id": "63524cfa",
   "metadata": {},
   "outputs": [],
   "source": [
    "start = len(train)\n",
    "end = len(train) + len(test) -1"
   ]
  },
  {
   "cell_type": "code",
   "execution_count": null,
   "id": "80b80814",
   "metadata": {},
   "outputs": [],
   "source": [
    "pred = model.predict(start=start, end = end, type=\"levels\")"
   ]
  },
  {
   "cell_type": "markdown",
   "id": "401374f0",
   "metadata": {},
   "source": [
    "## make prediction for the next 7 days "
   ]
  },
  {
   "cell_type": "code",
   "execution_count": null,
   "id": "ec02fb8a",
   "metadata": {},
   "outputs": [],
   "source": [
    "model2 = ARIMA(df_arima[\"trip_id\"], order=(p,d,q))\n",
    "model2 = model.fit"
   ]
  },
  {
   "cell_type": "code",
   "execution_count": 88,
   "id": "81c98279",
   "metadata": {},
   "outputs": [],
   "source": [
    "future_index = pd.date_range(start= \"1/8/2017 00:00:00\",end=\"01/14/2017 23:00:00\", freq=\"H\")`"
   ]
  },
  {
   "cell_type": "code",
   "execution_count": null,
   "id": "46643b3c",
   "metadata": {},
   "outputs": [],
   "source": [
    "pred2 = model2.predict(start=len(df_arima), end=(len(df_arima)+len(future_index)), type=levels)\n",
    "pred2.index = future_index"
   ]
  }
 ],
 "metadata": {
  "kernelspec": {
   "display_name": "Python 3",
   "language": "python",
   "name": "python3"
  },
  "language_info": {
   "codemirror_mode": {
    "name": "ipython",
    "version": 3
   },
   "file_extension": ".py",
   "mimetype": "text/x-python",
   "name": "python",
   "nbconvert_exporter": "python",
   "pygments_lexer": "ipython3",
   "version": "3.8.8"
  }
 },
 "nbformat": 4,
 "nbformat_minor": 5
}
